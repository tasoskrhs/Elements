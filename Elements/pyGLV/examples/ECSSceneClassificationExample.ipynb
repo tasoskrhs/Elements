{
 "cells": [
  {
   "attachments": {},
   "cell_type": "markdown",
   "metadata": {},
   "source": [
    "# ECS scene to GNN digestable format and scene classification example "
   ]
  },
  {
   "attachments": {},
   "cell_type": "markdown",
   "metadata": {},
   "source": [
    "### Import libraries"
   ]
  },
  {
   "cell_type": "code",
   "execution_count": null,
   "metadata": {},
   "outputs": [],
   "source": [
    "# Run the following code to install additional packages required for this example\n",
    "# ! pip install matplotlib torch \n",
    "! pip install pyg_lib torch_scatter torch_sparse torch_cluster torch_spline_conv torch_geometric  --find-links https://data.pyg.org/whl/torch-1.12.0+cpu.html\n",
    "! pip install trimesh"
   ]
  },
  {
   "cell_type": "code",
   "execution_count": null,
   "metadata": {},
   "outputs": [],
   "source": [
    "! pip install pyg_lib --find-links https://data.pyg.org/whl/torch-2.0.1+cu118.html"
   ]
  },
  {
   "cell_type": "code",
   "execution_count": null,
   "metadata": {},
   "outputs": [],
   "source": [
    "! pip install pyg_lib"
   ]
  },
  {
   "cell_type": "code",
   "execution_count": null,
   "metadata": {},
   "outputs": [],
   "source": []
  },
  {
   "cell_type": "code",
   "execution_count": null,
   "metadata": {},
   "outputs": [],
   "source": [
    "from __future__ import annotations\n",
    "import sys\n",
    "sys.path.append(\"../../../\")\n",
    "import numpy as np\n",
    "import Elements.pyECSS.utilities as util\n",
    "from Elements.pyGLV.GL.GameObject import GameObject\n",
    "from Elements.pyECSS.Component import BasicTransform, RenderMesh\n",
    "from Elements.pyECSS.Entity import Entity\n",
    "from Elements.pyGLV.GL.Scene import Scene\n",
    "from Elements.pyGLV.GL.Shader import Shader, ShaderGLDecorator\n",
    "from Elements.pyGLV.GL.VertexArray import VertexArray\n",
    "\n",
    "import numpy as np\n",
    "\n",
    "import Elements.pyECSS.utilities as util\n",
    "from Elements.pyECSS.Entity import Entity\n",
    "from Elements.pyECSS.Component import BasicTransform, RenderMesh, Camera\n",
    "from Elements.pyECSS.System import TransformSystem, CameraSystem\n",
    "from Elements.pyGLV.GL.Scene import Scene\n",
    "from Elements.pyGLV.GUI.Viewer import RenderGLStateSystem\n",
    "\n",
    "from Elements.pyGLV.GL.Shader import InitGLShaderSystem, Shader, ShaderGLDecorator, RenderGLShaderSystem\n",
    "from Elements.pyGLV.GL.VertexArray import VertexArray\n",
    "\n",
    "from OpenGL.GL import GL_LINES\n",
    "from CreateScenes import CreateRoomScene,CreateORScene,CreatePaperScene\n",
    "import Converter\n",
    "import torch\n"
   ]
  },
  {
   "cell_type": "code",
   "execution_count": null,
   "metadata": {},
   "outputs": [],
   "source": [
    "import torch\n",
    "print(torch.__version__)"
   ]
  },
  {
   "cell_type": "code",
   "execution_count": null,
   "metadata": {},
   "outputs": [],
   "source": [
    "device = torch.device(\"cuda\" if torch.cuda.is_available() else \"cpu\")\n",
    "print(device)"
   ]
  },
  {
   "attachments": {},
   "cell_type": "markdown",
   "metadata": {},
   "source": [
    "### Function that creates a default living room scene."
   ]
  },
  {
   "cell_type": "code",
   "execution_count": null,
   "metadata": {},
   "outputs": [],
   "source": [
    "Scene.reset_instance()\n",
    "# scene = CreateRoomScene(visualize=True)\n",
    "scene = CreateORScene(visualize=True)"
   ]
  },
  {
   "cell_type": "code",
   "execution_count": null,
   "metadata": {},
   "outputs": [],
   "source": [
    "# attempt to visualize\n",
    "from CreateScenes import view_scene"
   ]
  },
  {
   "cell_type": "code",
   "execution_count": null,
   "metadata": {},
   "outputs": [],
   "source": [
    "# works!!\n",
    "view_scene(scene)"
   ]
  },
  {
   "cell_type": "code",
   "execution_count": null,
   "metadata": {},
   "outputs": [],
   "source": []
  },
  {
   "cell_type": "code",
   "execution_count": null,
   "metadata": {},
   "outputs": [],
   "source": [
    "# scene --> graph\n",
    "scene_graph = Converter.ECStoGNN(scene)\n",
    "scene_graph"
   ]
  },
  {
   "cell_type": "code",
   "execution_count": null,
   "metadata": {},
   "outputs": [],
   "source": [
    "scne_ECS = Converter.GNNtoECS(scene_graph)"
   ]
  },
  {
   "cell_type": "code",
   "execution_count": null,
   "metadata": {},
   "outputs": [],
   "source": [
    "# attempt to visualize again\n",
    "view_scene(scne_ECS)"
   ]
  },
  {
   "cell_type": "code",
   "execution_count": null,
   "metadata": {},
   "outputs": [],
   "source": []
  },
  {
   "cell_type": "code",
   "execution_count": null,
   "metadata": {},
   "outputs": [],
   "source": []
  },
  {
   "attachments": {},
   "cell_type": "markdown",
   "metadata": {},
   "source": [
    "### Function that creates a default operating room (OR) scene."
   ]
  },
  {
   "cell_type": "code",
   "execution_count": null,
   "metadata": {},
   "outputs": [],
   "source": [
    "Scene.reset_instance()\n",
    "scene = CreateORScene(visualize=True)"
   ]
  },
  {
   "attachments": {},
   "cell_type": "markdown",
   "metadata": {},
   "source": [
    "### Function that creates the OR scene as seen in the SIGGRAPH poster"
   ]
  },
  {
   "cell_type": "code",
   "execution_count": null,
   "metadata": {},
   "outputs": [],
   "source": [
    "Scene.reset_instance()\n",
    "scene = CreatePaperScene(visualize=True)"
   ]
  },
  {
   "attachments": {},
   "cell_type": "markdown",
   "metadata": {},
   "source": [
    "### Create the instances of the two default scenes, and convert them into a pytorch geometric graph format and also add the corresponding label to it"
   ]
  },
  {
   "cell_type": "code",
   "execution_count": null,
   "metadata": {},
   "outputs": [],
   "source": [
    "Scene.reset_instance()\n",
    "defaultRoomScene = CreateRoomScene()\n",
    "defaultRoomSceneGNN = Converter.ECStoGNN(defaultRoomScene)\n",
    "defaultRoomSceneGNN.y = 1\n",
    "Scene.reset_instance()\n",
    "defaultORScene = CreateORScene()\n",
    "defaultORSceneGNN = Converter.ECStoGNN(defaultORScene)\n",
    "defaultORSceneGNN.y = 0\n",
    "Scene.reset_instance()\n",
    "mydata = []\n",
    "y = []"
   ]
  },
  {
   "cell_type": "code",
   "execution_count": null,
   "metadata": {},
   "outputs": [],
   "source": [
    "defaultORSceneGNN"
   ]
  },
  {
   "cell_type": "code",
   "execution_count": null,
   "metadata": {},
   "outputs": [],
   "source": [
    "defaultORSceneGNN['trs']"
   ]
  },
  {
   "attachments": {},
   "cell_type": "markdown",
   "metadata": {},
   "source": [
    "### Create 10 scenes, 5 of each room. The function ECStoGNN adds noise to each scene's component data so we get unique scenes each time. Finally we save them to a list"
   ]
  },
  {
   "cell_type": "code",
   "execution_count": null,
   "metadata": {},
   "outputs": [],
   "source": [
    "numscenes = 10\n",
    "for i in range(numscenes):\n",
    "    print(\"I:\", i)\n",
    "    Scene.reset_instance()\n",
    "    if i > numscenes / 2:\n",
    "        y.append(0)\n",
    "        scene = CreateORScene()\n",
    "    else:\n",
    "        y.append(1)\n",
    "        scene = CreateRoomScene()\n",
    "\n",
    "    data = Converter.ECStoGNN(scene)\n",
    "    data.y = y[len(y) - 1]\n",
    "    mydata.append(data)\n",
    "\n",
    "mydata.append(defaultRoomSceneGNN)\n",
    "mydata.append(defaultORSceneGNN)"
   ]
  },
  {
   "attachments": {},
   "cell_type": "markdown",
   "metadata": {},
   "source": [
    "### Create the GNN classifier's architecture. It consists of hetero convolutional layers that apply the SAGEConv operator on each type of edge. More information about the SAGEConv operator are here: \n",
    "https://pytorch-geometric.readthedocs.io/en/latest/generated/torch_geometric.nn.conv.SAGEConv.html"
   ]
  },
  {
   "cell_type": "code",
   "execution_count": null,
   "metadata": {},
   "outputs": [],
   "source": [
    "from torch_geometric.nn import SAGEConv, HeteroConv\n",
    "from torch_geometric.nn import global_mean_pool\n",
    "from torch.nn import Linear\n",
    "device = torch.device('cuda' if torch.cuda.is_available() else 'cpu')\n",
    "\n",
    "\n",
    "## GNN Classifier architecture\n",
    "class HeteroGNN(torch.nn.Module):\n",
    "    def __init__(self, hidden_channels, out_channels, num_layers):\n",
    "        super().__init__()\n",
    "\n",
    "        self.convs = torch.nn.ModuleList()\n",
    "        for _ in range(num_layers):\n",
    "            conv = HeteroConv({\n",
    "                ('entity', 'entparent', 'entity'): SAGEConv((-1, -1), hidden_channels, normalize=True),\n",
    "                ('entity', 'trsparent', 'trs'): SAGEConv((-1, -1), hidden_channels, normalize=True),\n",
    "                ('entity', 'meshparent', 'mesh'): SAGEConv((-1, -1), hidden_channels, normalize=True),\n",
    "            }, aggr='mean')\n",
    "            self.convs.append(conv)\n",
    "\n",
    "        self.lin1 = Linear(hidden_channels, out_channels)\n",
    "        self.lin2 = Linear(hidden_channels, out_channels)\n",
    "        self.lin3 = Linear(hidden_channels, out_channels)\n",
    "\n",
    "    def forward(self, x_dict, edge_index_dict, batch1, batch2, batch3):\n",
    "        for conv in self.convs:\n",
    "            x_dict = conv(x_dict, edge_index_dict)\n",
    "            x_dict = {key: x.relu() for key, x in x_dict.items()}\n",
    "        x1 = global_mean_pool(x_dict['entity'], batch1)  # [batch_size, hidden_channels]\n",
    "        x2 = global_mean_pool(x_dict['trs'], batch2)  # [batch_size, hidden_channels]\n",
    "        x3 = global_mean_pool(x_dict['mesh'], batch3)  # [batch_size, hidden_channels]\n",
    "        x1 = self.lin1(x1)\n",
    "        x2 = self.lin2(x2)\n",
    "        x3 = self.lin3(x3)\n",
    "        final = x1 + x2 + x3\n",
    "        final = torch.sigmoid(final)\n",
    "        return final\n",
    "\n",
    "\n",
    "model = HeteroGNN(hidden_channels=128, out_channels=2,\n",
    "                  num_layers=5).to(device)\n",
    "optimizer = torch.optim.Adam(model.parameters(), lr=0.01)\n",
    "criterion = torch.nn.CrossEntropyLoss()\n",
    "# random.shuffle(mydata)"
   ]
  },
  {
   "attachments": {},
   "cell_type": "markdown",
   "metadata": {},
   "source": [
    "### Split the data into training and test set and train for 50 epochs. Calculate the loss and accuracy for each epoch on the test and training set. Finally, save the model"
   ]
  },
  {
   "cell_type": "code",
   "execution_count": null,
   "metadata": {},
   "outputs": [],
   "source": [
    "from torch_geometric.loader import DataLoader\n",
    "train_data = mydata[:int(numscenes * 0.7)]\n",
    "test_data = mydata[int(numscenes * 0.7):]\n",
    "train_loader = DataLoader(train_data, batch_size=8, shuffle=True)\n",
    "test_loader = DataLoader(test_data, batch_size=1, shuffle=True)\n",
    "\n",
    "# Train for 50 epochs and print losses and accuracy\n",
    "for i in range(50):\n",
    "    correct = 0\n",
    "    totalloss = 0\n",
    "    model.train()\n",
    "    for l in train_loader:\n",
    "        a = model(l.x_dict, l.edge_index_dict, l['entity'].batch, l['trs'].batch, l['mesh'].batch)\n",
    "        pred = a.argmax(dim=1).to(device)\n",
    "       \n",
    "        correct += int((pred == l.y.to(device)).sum())\n",
    "        loss = criterion(a, l.y.to(device))  # Compute the loss.\n",
    "        totalloss += loss.item()\n",
    "        loss.backward()  # Derive gradients.\n",
    "        optimizer.step()  # Update parameters based on gradients.\n",
    "        optimizer.zero_grad()  # Clear gradients.\n",
    "    model.eval()\n",
    "    testcorrect = 0\n",
    "    for l in test_loader:\n",
    "        a = model(l.x_dict, l.edge_index_dict, l['entity'].batch, l['trs'].batch, l['mesh'].batch)\n",
    "        pred = a.argmax(dim=1).to(device)\n",
    "        # print(l.y.shape)\n",
    "        testcorrect += int((pred == l.y.to(device)).sum())\n",
    "    print(\n",
    "        f'Epoch: {i:03d}, Train Acc: {correct / len(train_loader.dataset) :.4f}, Test Acc: {testcorrect / len(test_loader.dataset)} Loss: {totalloss / 8:.4f}')\n",
    "\n",
    "torch.save(model.state_dict(), \"scenemodel.pth\")"
   ]
  },
  {
   "cell_type": "code",
   "execution_count": null,
   "metadata": {},
   "outputs": [],
   "source": []
  }
 ],
 "metadata": {
  "kernelspec": {
   "display_name": "pyJANVRED",
   "language": "python",
   "name": "python3"
  },
  "language_info": {
   "codemirror_mode": {
    "name": "ipython",
    "version": 3
   },
   "file_extension": ".py",
   "mimetype": "text/x-python",
   "name": "python",
   "nbconvert_exporter": "python",
   "pygments_lexer": "ipython3",
   "version": "3.8.17"
  },
  "orig_nbformat": 4
 },
 "nbformat": 4,
 "nbformat_minor": 2
}
